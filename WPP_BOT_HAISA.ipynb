{
 "cells": [
  {
   "cell_type": "code",
   "execution_count": 11,
   "metadata": {},
   "outputs": [],
   "source": [
    "#BOT para enviar mensagens pelo WhatsappWeb para contatos de uma planilha excel (nome,telefone) através do Google Chrome!!!\n",
    "\n",
    "#Importando as Bibliotecas necessárias\n",
    "import pandas as pd\n",
    "from selenium import webdriver\n",
    "from webdriver_manager.chrome import ChromeDriverManager\n",
    "from time import sleep\n"
   ]
  },
  {
   "cell_type": "code",
   "execution_count": 37,
   "metadata": {},
   "outputs": [],
   "source": [
    "#Links e Xpaths\n",
    "WPP_LINK = \"https://web.whatsapp.com/\"\n",
    "SEND_MSG = '//*[@id=\"main_block\"]/div[1]/div'\n",
    "OPEN_MSG = '//*[@id=\"fallback_block\"]/div/div/a'\n",
    "WRITE_MSG = '//*[@id=\"main\"]/footer/div[1]/div[2]/div/div[2]'\n",
    "CLICK_SEND = '//*[@id=\"main\"]/footer/div[1]/div[3]/button'"
   ]
  },
  {
   "cell_type": "code",
   "execution_count": 13,
   "metadata": {},
   "outputs": [
    {
     "name": "stderr",
     "output_type": "stream",
     "text": [
      "[WDM] - ====== WebDriver manager ======\n",
      "[WDM] - Current google-chrome version is 90.0.4430\n",
      "[WDM] - Get LATEST driver version for 90.0.4430\n"
     ]
    },
    {
     "name": "stdout",
     "output_type": "stream",
     "text": [
      "\n",
      "\n"
     ]
    },
    {
     "name": "stderr",
     "output_type": "stream",
     "text": [
      "[WDM] - Driver [C:\\Users\\lisaf\\.wdm\\drivers\\chromedriver\\win32\\90.0.4430.24\\chromedriver.exe] found in cache\n"
     ]
    }
   ],
   "source": [
    "#Intalando Webdriver Manager para o Chrome\n",
    "driver = webdriver.Chrome(ChromeDriverManager().install())"
   ]
  },
  {
   "cell_type": "code",
   "execution_count": 58,
   "metadata": {},
   "outputs": [],
   "source": [
    "#Entrando no whatsapp web \n",
    "driver.get(WPP_LINK)\n",
    "#Aqui é necessário abrir o Chrome e usar o QRcode para entrar no WhatsappWeb manualmente!"
   ]
  },
  {
   "cell_type": "code",
   "execution_count": 59,
   "metadata": {},
   "outputs": [],
   "source": [
    "#Criando a função de enviar mensagem pelo whatsapp web:\n",
    "def enviar_mensagem(numero, mensagem):\n",
    "    driver.get('https://api.whatsapp.com/send?phone={}'.format(numero))\n",
    "    sleep(3)\n",
    "    enviar_msg = driver.find_element_by_xpath(SEND_MSG)\n",
    "    enviar_msg.click()\n",
    "    sleep(3)\n",
    "    #Escolhendo WPP web e abrindo a mensagem\n",
    "    abrir_msg = driver.find_element_by_xpath(OPEN_MSG)\n",
    "    abrir_msg.click()\n",
    "    sleep(3)\n",
    "    #Escrevendo a mensagem\n",
    "    escrever_msg = driver.find_element_by_xpath(WRITE_MSG)\n",
    "    escrever_msg.send_keys(mensagem)\n",
    "    sleep(3)\n",
    "    clicar_enviar = driver.find_element_by_xpath(CLICK_SEND)\n",
    "    clicar_enviar.click()\n",
    "    return print('Mensagem \"{}\" enviada para o número: {}'.format(mensagem, numero))\n",
    "\n"
   ]
  },
  {
   "cell_type": "code",
   "execution_count": 68,
   "metadata": {},
   "outputs": [
    {
     "data": {
      "text/html": [
       "<div>\n",
       "<style scoped>\n",
       "    .dataframe tbody tr th:only-of-type {\n",
       "        vertical-align: middle;\n",
       "    }\n",
       "\n",
       "    .dataframe tbody tr th {\n",
       "        vertical-align: top;\n",
       "    }\n",
       "\n",
       "    .dataframe thead th {\n",
       "        text-align: right;\n",
       "    }\n",
       "</style>\n",
       "<table border=\"1\" class=\"dataframe\">\n",
       "  <thead>\n",
       "    <tr style=\"text-align: right;\">\n",
       "      <th></th>\n",
       "      <th>Nome</th>\n",
       "      <th>Telefone</th>\n",
       "    </tr>\n",
       "  </thead>\n",
       "  <tbody>\n",
       "    <tr>\n",
       "      <th>0</th>\n",
       "      <td>Pedro</td>\n",
       "      <td>554812345678</td>\n",
       "    </tr>\n",
       "    <tr>\n",
       "      <th>1</th>\n",
       "      <td>Luiza</td>\n",
       "      <td>5548123456789</td>\n",
       "    </tr>\n",
       "    <tr>\n",
       "      <th>2</th>\n",
       "      <td>Maria Rita</td>\n",
       "      <td>554887654321</td>\n",
       "    </tr>\n",
       "    <tr>\n",
       "      <th>3</th>\n",
       "      <td>Bruno</td>\n",
       "      <td>5548987654321</td>\n",
       "    </tr>\n",
       "  </tbody>\n",
       "</table>\n",
       "</div>"
      ],
      "text/plain": [
       "         Nome       Telefone\n",
       "0       Pedro   554812345678\n",
       "1       Luiza  5548123456789\n",
       "2  Maria Rita   554887654321\n",
       "3       Bruno  5548987654321"
      ]
     },
     "metadata": {},
     "output_type": "display_data"
    }
   ],
   "source": [
    "#Importando contatos de uma planilha do excel\n",
    "contatos = pd.read_excel('contatos_wpp_bot.xlsx')\n",
    "display(contatos)"
   ]
  },
  {
   "cell_type": "code",
   "execution_count": 67,
   "metadata": {},
   "outputs": [
    {
     "name": "stdout",
     "output_type": "stream",
     "text": [
      "Mensagem \"Olá Haisa, Tudo bem?\" enviada para o número: 554884929018\n",
      "Mensagem \"Olá Luiza, Tudo bem?\" enviada para o número: 5548984388180\n",
      "Mensagem \"Olá Maria Haisa, Tudo bem?\" enviada para o número: 554884929018\n",
      "Mensagem \"Olá Maria Luiza, Tudo bem?\" enviada para o número: 5548984388180\n"
     ]
    }
   ],
   "source": [
    "#Criando loop para enviar mensagem para cada contato da planilha \n",
    "#Nota: para que essa parte funcione é necessário que a planilha contenha números reais completos (DDI+DDD+TELEFONE)!\n",
    "for linha in contatos.index:\n",
    "    nome = contatos.loc[linha, 'Nome']\n",
    "    num = contatos.loc[linha, 'Telefone']\n",
    "    #Inserir aqui a mensagem para cada contato!!\n",
    "    texto_mensagem = f'Olá {nome}, Tudo bem?'\n",
    "    #Aplicar a função criada anteriormente, com a mensagem acima:\n",
    "    enviar_mensagem(num,texto_mensagem)\n",
    "    sleep(3)\n",
    "  "
   ]
  },
  {
   "cell_type": "code",
   "execution_count": 43,
   "metadata": {},
   "outputs": [],
   "source": []
  },
  {
   "cell_type": "code",
   "execution_count": null,
   "metadata": {},
   "outputs": [],
   "source": []
  }
 ],
 "metadata": {
  "kernelspec": {
   "display_name": "Python 3",
   "language": "python",
   "name": "python3"
  },
  "language_info": {
   "codemirror_mode": {
    "name": "ipython",
    "version": 3
   },
   "file_extension": ".py",
   "mimetype": "text/x-python",
   "name": "python",
   "nbconvert_exporter": "python",
   "pygments_lexer": "ipython3",
   "version": "3.8.5"
  }
 },
 "nbformat": 4,
 "nbformat_minor": 4
}
