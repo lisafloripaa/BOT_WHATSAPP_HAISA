{
 "cells": [
  {
   "cell_type": "code",
   "execution_count": 11,
   "metadata": {},
   "outputs": [],
   "source": [
    "import pandas as pd\n",
    "from selenium import webdriver\n",
    "from webdriver_manager.chrome import ChromeDriverManager\n",
    "from time import sleep\n"
   ]
  },
  {
   "cell_type": "code",
   "execution_count": 37,
   "metadata": {},
   "outputs": [],
   "source": [
    "#Links e Xpaths\n",
    "WPP_LINK = \"https://web.whatsapp.com/\"\n",
    "SEND_MSG = '//*[@id=\"main_block\"]/div[1]/div'\n",
    "OPEN_MSG = '//*[@id=\"fallback_block\"]/div/div/a'\n",
    "WRITE_MSG = '//*[@id=\"main\"]/footer/div[1]/div[2]/div/div[2]'\n",
    "CLICK_SEND = '//*[@id=\"main\"]/footer/div[1]/div[3]/button'"
   ]
  },
  {
   "cell_type": "code",
   "execution_count": 13,
   "metadata": {},
   "outputs": [
    {
     "name": "stderr",
     "output_type": "stream",
     "text": [
      "[WDM] - ====== WebDriver manager ======\n",
      "[WDM] - Current google-chrome version is 90.0.4430\n",
      "[WDM] - Get LATEST driver version for 90.0.4430\n"
     ]
    },
    {
     "name": "stdout",
     "output_type": "stream",
     "text": [
      "\n",
      "\n"
     ]
    },
    {
     "name": "stderr",
     "output_type": "stream",
     "text": [
      "[WDM] - Driver [C:\\Users\\lisaf\\.wdm\\drivers\\chromedriver\\win32\\90.0.4430.24\\chromedriver.exe] found in cache\n"
     ]
    }
   ],
   "source": [
    "#Intalando Webdriver Manager para o Chrome\n",
    "driver = webdriver.Chrome(ChromeDriverManager().install())"
   ]
  },
  {
   "cell_type": "code",
   "execution_count": 58,
   "metadata": {},
   "outputs": [],
   "source": [
    "#Entreando no whatsapp web \n",
    "driver.get(WPP_LINK)\n",
    "#Abrir o Chrome e usar o QRcode para entrar no WhatsappWeb"
   ]
  },
  {
   "cell_type": "code",
   "execution_count": 59,
   "metadata": {},
   "outputs": [],
   "source": [
    "numero_teste = 554884929018\n",
    "mensagem_teste = \"Olá, tudo bem? teste\"\n",
    "\n",
    "\n",
    "\n",
    "\n",
    "def enviar_mensagem(numero, mensagem):\n",
    "    driver.get('https://api.whatsapp.com/send?phone={}'.format(numero))\n",
    "    sleep(3)\n",
    "    enviar_msg = driver.find_element_by_xpath(SEND_MSG)\n",
    "    enviar_msg.click()\n",
    "    sleep(3)\n",
    "    #Escolhendo WPP web e abrindo a mensagem\n",
    "    abrir_msg = driver.find_element_by_xpath(OPEN_MSG)\n",
    "    abrir_msg.click()\n",
    "    sleep(3)\n",
    "    #Escrevendo a mensagem\n",
    "    escrever_msg = driver.find_element_by_xpath(WRITE_MSG)\n",
    "    escrever_msg.send_keys(mensagem)\n",
    "    sleep(3)\n",
    "    clicar_enviar = driver.find_element_by_xpath(CLICK_SEND)\n",
    "    clicar_enviar.click()\n",
    "    return print('Mensagem \"{}\" enviada para o número: {}'.format(mensagem, numero))\n",
    "\n"
   ]
  },
  {
   "cell_type": "code",
   "execution_count": 60,
   "metadata": {},
   "outputs": [
    {
     "name": "stdout",
     "output_type": "stream",
     "text": [
      "Mensagem \"Olá, tudo bem? teste\" enviada para o número: 554884929018\n"
     ]
    }
   ],
   "source": [
    "enviar_mensagem(numero_teste,mensagem_teste)"
   ]
  },
  {
   "cell_type": "code",
   "execution_count": 64,
   "metadata": {},
   "outputs": [
    {
     "data": {
      "text/html": [
       "<div>\n",
       "<style scoped>\n",
       "    .dataframe tbody tr th:only-of-type {\n",
       "        vertical-align: middle;\n",
       "    }\n",
       "\n",
       "    .dataframe tbody tr th {\n",
       "        vertical-align: top;\n",
       "    }\n",
       "\n",
       "    .dataframe thead th {\n",
       "        text-align: right;\n",
       "    }\n",
       "</style>\n",
       "<table border=\"1\" class=\"dataframe\">\n",
       "  <thead>\n",
       "    <tr style=\"text-align: right;\">\n",
       "      <th></th>\n",
       "      <th>Nome</th>\n",
       "      <th>Telefone</th>\n",
       "    </tr>\n",
       "  </thead>\n",
       "  <tbody>\n",
       "    <tr>\n",
       "      <th>0</th>\n",
       "      <td>Haisa</td>\n",
       "      <td>554884929018</td>\n",
       "    </tr>\n",
       "    <tr>\n",
       "      <th>1</th>\n",
       "      <td>Luiza</td>\n",
       "      <td>5548984388180</td>\n",
       "    </tr>\n",
       "    <tr>\n",
       "      <th>2</th>\n",
       "      <td>Maria Haisa</td>\n",
       "      <td>554884929018</td>\n",
       "    </tr>\n",
       "    <tr>\n",
       "      <th>3</th>\n",
       "      <td>Maria Luiza</td>\n",
       "      <td>5548984388180</td>\n",
       "    </tr>\n",
       "  </tbody>\n",
       "</table>\n",
       "</div>"
      ],
      "text/plain": [
       "          Nome       Telefone\n",
       "0        Haisa   554884929018\n",
       "1        Luiza  5548984388180\n",
       "2  Maria Haisa   554884929018\n",
       "3  Maria Luiza  5548984388180"
      ]
     },
     "metadata": {},
     "output_type": "display_data"
    }
   ],
   "source": [
    "contatos = pd.read_excel('contatos_wpp_bot.xlsx')\n",
    "display(contatos)"
   ]
  },
  {
   "cell_type": "code",
   "execution_count": 65,
   "metadata": {},
   "outputs": [
    {
     "name": "stdout",
     "output_type": "stream",
     "text": [
      "Mensagem \"Olá Haisa, Tudo bem?\" enviada para o número: 554884929018\n",
      "Mensagem \"Olá Luiza, Tudo bem?\" enviada para o número: 5548984388180\n",
      "Mensagem \"Olá Maria Haisa, Tudo bem?\" enviada para o número: 554884929018\n",
      "Mensagem \"Olá Maria Luiza, Tudo bem?\" enviada para o número: 5548984388180\n"
     ]
    }
   ],
   "source": [
    "for linha in contatos.index:\n",
    "    nome = contatos.loc[linha, 'Nome']\n",
    "    num = contatos.loc[linha, 'Telefone']\n",
    "    texto_mensagem = f'Olá {nome}, Tudo bem?'\n",
    "    enviar_mensagem(num,texto_mensagem)\n",
    "    sleep(3)\n",
    "    "
   ]
  },
  {
   "cell_type": "code",
   "execution_count": 43,
   "metadata": {},
   "outputs": [],
   "source": []
  },
  {
   "cell_type": "code",
   "execution_count": null,
   "metadata": {},
   "outputs": [],
   "source": []
  }
 ],
 "metadata": {
  "kernelspec": {
   "display_name": "Python 3",
   "language": "python",
   "name": "python3"
  },
  "language_info": {
   "codemirror_mode": {
    "name": "ipython",
    "version": 3
   },
   "file_extension": ".py",
   "mimetype": "text/x-python",
   "name": "python",
   "nbconvert_exporter": "python",
   "pygments_lexer": "ipython3",
   "version": "3.8.5"
  }
 },
 "nbformat": 4,
 "nbformat_minor": 4
}
